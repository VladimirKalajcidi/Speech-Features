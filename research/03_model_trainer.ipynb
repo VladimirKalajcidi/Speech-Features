{
 "cells": [
  {
   "cell_type": "code",
   "execution_count": 1,
   "metadata": {},
   "outputs": [],
   "source": [
    "import os"
   ]
  },
  {
   "cell_type": "code",
   "execution_count": 2,
   "metadata": {},
   "outputs": [
    {
     "data": {
      "text/plain": [
       "'/workspaces/endtoend/research'"
      ]
     },
     "execution_count": 2,
     "metadata": {},
     "output_type": "execute_result"
    }
   ],
   "source": [
    "%pwd"
   ]
  },
  {
   "cell_type": "code",
   "execution_count": 3,
   "metadata": {},
   "outputs": [],
   "source": [
    "os.chdir(\"/workspaces/endtoend\")"
   ]
  },
  {
   "cell_type": "code",
   "execution_count": 10,
   "metadata": {},
   "outputs": [],
   "source": [
    "from dataclasses import dataclass\n",
    "from pathlib import Path\n",
    "\n",
    "\n",
    "@dataclass(frozen=True)\n",
    "class TrainingConfig:\n",
    "    root_dir: Path\n",
    "    trained_model_path: Path\n",
    "    updated_base_model_path: Path\n",
    "    training_data: Path\n",
    "    size: Path\n",
    "    data_size: int\n",
    "    max_steps: int\n",
    "    language: str\n",
    "    task: str\n",
    "    metric: str\n",
    "    learning_rate: float\n",
    "    max_steps: int\n",
    "    generation_max_length: int\n",
    "    push_to_hub: bool"
   ]
  },
  {
   "cell_type": "code",
   "execution_count": 11,
   "metadata": {},
   "outputs": [],
   "source": [
    "from cnnClassifier.constants import *\n",
    "from cnnClassifier.utils.common import read_yaml, create_directories"
   ]
  },
  {
   "cell_type": "code",
   "execution_count": 18,
   "metadata": {},
   "outputs": [],
   "source": [
    "class ConfigurationManager:\n",
    "    def __init__(\n",
    "        self,\n",
    "        config_filepath = CONFIG_FILE_PATH,\n",
    "        params_filepath = PARAMS_FILE_PATH):\n",
    "        \n",
    "        self.config = read_yaml(config_filepath)\n",
    "        self.params = read_yaml(params_filepath)\n",
    "\n",
    "        create_directories([self.config.artifacts_root])\n",
    "\n",
    "    def get_training_config(self) -> TrainingConfig:\n",
    "        training = self.config.training\n",
    "        prepare_base_model = self.config.prepare_base_model\n",
    "        params = self.params\n",
    "        training_data = os.path.join(self.config.data_ingestion.root_dir, \"data.hf\")\n",
    "        print(training_data)\n",
    "        create_directories([\n",
    "            Path(training.root_dir)\n",
    "        ])\n",
    "\n",
    "        training_config = TrainingConfig(\n",
    "            root_dir=Path(training.root_dir),\n",
    "            trained_model_path=Path(training.trained_model_path),\n",
    "            updated_base_model_path=Path(prepare_base_model.updated_base_model_path),\n",
    "            training_data=Path(training_data),\n",
    "            size = params.SIZE,\n",
    "            data_size=params.DATA_SIZE,\n",
    "            max_steps=params.MAX_STEPS,\n",
    "            language=params.LANGUAGE,\n",
    "            task=params.TASK,\n",
    "            metric=params.METRIC,\n",
    "            learning_rate=params.LEARNING_RATE,\n",
    "            generation_max_length=params.GENERATION_MAX_LENGTH,\n",
    "            push_to_hub=params.PUSH_TO_HUB\n",
    "        )\n",
    "\n",
    "        return training_config"
   ]
  },
  {
   "cell_type": "code",
   "execution_count": 19,
   "metadata": {},
   "outputs": [],
   "source": [
    "from transformers import (WhisperTokenizer, \n",
    "                          WhisperFeatureExtractor, \n",
    "                          WhisperProcessor,\n",
    "                          WhisperForConditionalGeneration)\n",
    "\n",
    "import torch\n",
    "from dataclasses import dataclass\n",
    "from typing import Any, Dict, List, Union\n",
    "from cnnClassifier.utils.common import DataCollatorSpeechSeq2SeqWithPadding\n",
    "from cnnClassifier.utils.common import compute_metrics\n",
    "import evaluate\n",
    "from transformers import Seq2SeqTrainingArguments\n",
    "from datasets import load_dataset\n",
    "from transformers import Seq2SeqTrainer"
   ]
  },
  {
   "cell_type": "code",
   "execution_count": null,
   "metadata": {},
   "outputs": [],
   "source": []
  },
  {
   "cell_type": "code",
   "execution_count": 34,
   "metadata": {},
   "outputs": [],
   "source": [
    "class Training:\n",
    "    def __init__(self, config: TrainingConfig):\n",
    "        self.config = config\n",
    "\n",
    "    \n",
    "    def get_base_model(self):\n",
    "        self.tokenizer = WhisperTokenizer.from_pretrained(self.config.size, \n",
    "                                                          language=self.config.language, \n",
    "                                                          task=self.config.task)\n",
    "        \n",
    "        self.feature_extractor = WhisperFeatureExtractor.from_pretrained(self.config.size)\n",
    "\n",
    "        self.processor = WhisperProcessor.from_pretrained(self.config.size, \n",
    "                                                          language=self.config.language, \n",
    "                                                          task=self.config.task)\n",
    "        \n",
    "        self.model = WhisperForConditionalGeneration.from_pretrained(self.config.updated_base_model_path)\n",
    "\n",
    "    def configure_trainig_arguments(self):\n",
    "\n",
    "        self.model.generation_config.language = self.config.language\n",
    "        self.model.generation_config.task = self.config.task\n",
    "        self.model.generation_config.forced_decoder_ids = None\n",
    "        \n",
    "        self.data_collator = DataCollatorSpeechSeq2SeqWithPadding(\n",
    "            processor=self.processor,\n",
    "            decoder_start_token_id=self.model.config.decoder_start_token_id\n",
    "        )\n",
    "        \n",
    "        self.metric = evaluate.load(self.config.metric)\n",
    "\n",
    "        self.training_args = Seq2SeqTrainingArguments(\n",
    "            output_dir=self.config.trained_model_path,\n",
    "            learning_rate=1e-5,\n",
    "            max_steps=self.config.max_steps,\n",
    "            generation_max_length=self.config.generation_max_length,\n",
    "            metric_for_best_model=self.config.metric,\n",
    "            push_to_hub=self.config.push_to_hub\n",
    "        )\n",
    "\n",
    "        self.dataset = load_dataset(str(self.config.training_data))\n",
    "        \n",
    "\n",
    "    def configure_trainer(self):\n",
    "\n",
    "        dataset = self.dataset\n",
    "        data_size = self.config.data_size\n",
    "        indices = [i for i in range(0, data_size)]\n",
    "\n",
    "        dataset['train'] = dataset['train'].select(indices)\n",
    "        dataset['test'] = dataset['train'].select(indices)\n",
    "\n",
    "        self.trainer = Seq2SeqTrainer(\n",
    "            args=self.training_args,\n",
    "            model=self.model,\n",
    "            train_dataset=dataset[\"train\"],\n",
    "            eval_dataset=dataset[\"test\"],\n",
    "            data_collator=self.data_collator,\n",
    "            compute_metrics=compute_metrics,\n",
    "            tokenizer=self.processor.feature_extractor,\n",
    ")\n",
    "\n",
    "    @staticmethod\n",
    "    def save_model(path: Path, model: WhisperForConditionalGeneration):\n",
    "        model.save_pretrained(path, from_pt=True)\n",
    "\n",
    "    \n",
    "    def train(self):\n",
    "        \n",
    "        self.trainer.train()\n",
    "\n",
    "        self.save_model(\n",
    "            path=self.config.trained_model_path,\n",
    "            model=self.model\n",
    "        )"
   ]
  },
  {
   "cell_type": "code",
   "execution_count": 35,
   "metadata": {},
   "outputs": [
    {
     "name": "stdout",
     "output_type": "stream",
     "text": [
      "[2024-08-12 03:14:17,437: INFO: common: yaml file: config/config.yaml loaded successfully]\n",
      "[2024-08-12 03:14:17,445: INFO: common: yaml file: params.yaml loaded successfully]\n",
      "[2024-08-12 03:14:17,446: INFO: common: created directory at: artifacts]\n",
      "artifacts/data_ingestion/data.hf\n",
      "[2024-08-12 03:14:17,448: INFO: common: created directory at: artifacts/training]\n"
     ]
    },
    {
     "name": "stderr",
     "output_type": "stream",
     "text": [
      "max_steps is given, it will override any value given in num_train_epochs\n",
      "Trainer is attempting to log a value of \"[1, 2, 7, 8, 9, 10, 14, 25, 26, 27, 28, 29, 31, 58, 59, 60, 61, 62, 63, 90, 91, 92, 93, 359, 503, 522, 542, 873, 893, 902, 918, 922, 931, 1350, 1853, 1982, 2460, 2627, 3246, 3253, 3268, 3536, 3846, 3961, 4183, 4667, 6585, 6647, 7273, 9061, 9383, 10428, 10929, 11938, 12033, 12331, 12562, 13793, 14157, 14635, 15265, 15618, 16553, 16604, 18362, 18956, 20075, 21675, 22520, 26130, 26161, 26435, 28279, 29464, 31650, 32302, 32470, 36865, 42863, 47425, 49870, 50254, 50258, 50358, 50359, 50360, 50361, 50362]\" for key \"suppress_tokens\" as a parameter. MLflow's log_param() only accepts values no longer than 250 characters so we dropped this attribute. You can use `MLFLOW_FLATTEN_PARAMS` environment variable to flatten the parameters and avoid this message.\n",
      "Passing a tuple of `past_key_values` is deprecated and will be removed in Transformers v4.43.0. You should pass an instance of `EncoderDecoderCache` instead, e.g. `past_key_values=EncoderDecoderCache.from_legacy_cache(past_key_values)`.\n"
     ]
    },
    {
     "data": {
      "text/html": [
       "\n",
       "    <div>\n",
       "      \n",
       "      <progress value='1' max='1' style='width:300px; height:20px; vertical-align: middle;'></progress>\n",
       "      [1/1 00:00, Epoch 1/1]\n",
       "    </div>\n",
       "    <table border=\"1\" class=\"dataframe\">\n",
       "  <thead>\n",
       " <tr style=\"text-align: left;\">\n",
       "      <th>Step</th>\n",
       "      <th>Training Loss</th>\n",
       "    </tr>\n",
       "  </thead>\n",
       "  <tbody>\n",
       "  </tbody>\n",
       "</table><p>"
      ],
      "text/plain": [
       "<IPython.core.display.HTML object>"
      ]
     },
     "metadata": {},
     "output_type": "display_data"
    },
    {
     "name": "stderr",
     "output_type": "stream",
     "text": [
      "Some non-default generation parameters are set in the model config. These should go into a GenerationConfig file (https://huggingface.co/docs/transformers/generation_strategies#save-a-custom-decoding-strategy-with-your-model) instead. This warning will be raised to an exception in v4.41.\n",
      "Non-default generation parameters: {'max_length': 448, 'suppress_tokens': [1, 2, 7, 8, 9, 10, 14, 25, 26, 27, 28, 29, 31, 58, 59, 60, 61, 62, 63, 90, 91, 92, 93, 359, 503, 522, 542, 873, 893, 902, 918, 922, 931, 1350, 1853, 1982, 2460, 2627, 3246, 3253, 3268, 3536, 3846, 3961, 4183, 4667, 6585, 6647, 7273, 9061, 9383, 10428, 10929, 11938, 12033, 12331, 12562, 13793, 14157, 14635, 15265, 15618, 16553, 16604, 18362, 18956, 20075, 21675, 22520, 26130, 26161, 26435, 28279, 29464, 31650, 32302, 32470, 36865, 42863, 47425, 49870, 50254, 50258, 50358, 50359, 50360, 50361, 50362], 'begin_suppress_tokens': [220, 50257]}\n",
      "Some non-default generation parameters are set in the model config. These should go into a GenerationConfig file (https://huggingface.co/docs/transformers/generation_strategies#save-a-custom-decoding-strategy-with-your-model) instead. This warning will be raised to an exception in v4.41.\n",
      "Non-default generation parameters: {'max_length': 448, 'suppress_tokens': [1, 2, 7, 8, 9, 10, 14, 25, 26, 27, 28, 29, 31, 58, 59, 60, 61, 62, 63, 90, 91, 92, 93, 359, 503, 522, 542, 873, 893, 902, 918, 922, 931, 1350, 1853, 1982, 2460, 2627, 3246, 3253, 3268, 3536, 3846, 3961, 4183, 4667, 6585, 6647, 7273, 9061, 9383, 10428, 10929, 11938, 12033, 12331, 12562, 13793, 14157, 14635, 15265, 15618, 16553, 16604, 18362, 18956, 20075, 21675, 22520, 26130, 26161, 26435, 28279, 29464, 31650, 32302, 32470, 36865, 42863, 47425, 49870, 50254, 50258, 50358, 50359, 50360, 50361, 50362], 'begin_suppress_tokens': [220, 50257]}\n"
     ]
    }
   ],
   "source": [
    "try:\n",
    "    config = ConfigurationManager()\n",
    "    training_config = config.get_training_config()\n",
    "    training = Training(config=training_config)\n",
    "    training.get_base_model()\n",
    "    training.configure_trainig_arguments()\n",
    "    training.configure_trainer()\n",
    "    training.train()\n",
    "    \n",
    "except Exception as e:\n",
    "    raise e"
   ]
  }
 ],
 "metadata": {
  "kernelspec": {
   "display_name": "new2",
   "language": "python",
   "name": "python3"
  },
  "language_info": {
   "codemirror_mode": {
    "name": "ipython",
    "version": 3
   },
   "file_extension": ".py",
   "mimetype": "text/x-python",
   "name": "python",
   "nbconvert_exporter": "python",
   "pygments_lexer": "ipython3",
   "version": "3.8.19"
  }
 },
 "nbformat": 4,
 "nbformat_minor": 2
}
