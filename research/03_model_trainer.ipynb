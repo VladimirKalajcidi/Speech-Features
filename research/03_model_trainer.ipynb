{
 "cells": [
  {
   "cell_type": "code",
   "execution_count": 1,
   "metadata": {},
   "outputs": [],
   "source": [
    "import os"
   ]
  },
  {
   "cell_type": "code",
   "execution_count": 2,
   "metadata": {},
   "outputs": [
    {
     "data": {
      "text/plain": [
       "'/workspaces/endtoend/research'"
      ]
     },
     "execution_count": 2,
     "metadata": {},
     "output_type": "execute_result"
    }
   ],
   "source": [
    "%pwd"
   ]
  },
  {
   "cell_type": "code",
   "execution_count": null,
   "metadata": {},
   "outputs": [],
   "source": [
    "os.chdir(\"DIR\")"
   ]
  },
  {
   "cell_type": "code",
   "execution_count": null,
   "metadata": {},
   "outputs": [
    {
     "data": {
      "application/vnd.jupyter.widget-view+json": {
       "model_id": "152a29e468f649bcaf2f13f694811907",
       "version_major": 2,
       "version_minor": 0
      },
      "text/plain": [
       "Downloading readme:   0%|          | 0.00/736 [00:00<?, ?B/s]"
      ]
     },
     "metadata": {},
     "output_type": "display_data"
    },
    {
     "data": {
      "application/vnd.jupyter.widget-view+json": {
       "model_id": "4b8645a3a2ed4db1a43321272b6a8466",
       "version_major": 2,
       "version_minor": 0
      },
      "text/plain": [
       "Downloading data:   0%|          | 0.00/3.57M [00:00<?, ?B/s]"
      ]
     },
     "metadata": {},
     "output_type": "display_data"
    },
    {
     "data": {
      "application/vnd.jupyter.widget-view+json": {
       "model_id": "0eb04251062b4efeb7409399f8518d04",
       "version_major": 2,
       "version_minor": 0
      },
      "text/plain": [
       "Downloading data:   0%|          | 0.00/3.66M [00:00<?, ?B/s]"
      ]
     },
     "metadata": {},
     "output_type": "display_data"
    },
    {
     "data": {
      "application/vnd.jupyter.widget-view+json": {
       "model_id": "4093292b8bab493a887a4f6e8fab3edc",
       "version_major": 2,
       "version_minor": 0
      },
      "text/plain": [
       "Generating train split:   0%|          | 0/100 [00:00<?, ? examples/s]"
      ]
     },
     "metadata": {},
     "output_type": "display_data"
    },
    {
     "data": {
      "application/vnd.jupyter.widget-view+json": {
       "model_id": "1e0defc9f37e4fdfab05239d997b9bd9",
       "version_major": 2,
       "version_minor": 0
      },
      "text/plain": [
       "Generating test split:   0%|          | 0/100 [00:00<?, ? examples/s]"
      ]
     },
     "metadata": {},
     "output_type": "display_data"
    },
    {
     "data": {
      "application/vnd.jupyter.widget-view+json": {
       "model_id": "c4fcf57630e348afaf63cebde4b1b5b8",
       "version_major": 2,
       "version_minor": 0
      },
      "text/plain": [
       "Saving the dataset (0/1 shards):   0%|          | 0/100 [00:00<?, ? examples/s]"
      ]
     },
     "metadata": {},
     "output_type": "display_data"
    },
    {
     "data": {
      "application/vnd.jupyter.widget-view+json": {
       "model_id": "25b63c696d874ee8af1da9cc7d3131e7",
       "version_major": 2,
       "version_minor": 0
      },
      "text/plain": [
       "Saving the dataset (0/1 shards):   0%|          | 0/100 [00:00<?, ? examples/s]"
      ]
     },
     "metadata": {},
     "output_type": "display_data"
    }
   ],
   "source": [
    "from datasets import load_dataset\n",
    "dataset = load_dataset('REPO')\n",
    "dataset.save_to_disk(\"artifacts/data_ingestion/test.hf\")"
   ]
  },
  {
   "cell_type": "code",
   "execution_count": 6,
   "metadata": {},
   "outputs": [],
   "source": [
    "from dataclasses import dataclass\n",
    "from pathlib import Path\n",
    "\n",
    "\n",
    "@dataclass(frozen=True)\n",
    "class TrainingConfig:\n",
    "    root_dir: Path\n",
    "    trained_model_path: Path\n",
    "    updated_base_model_path: Path\n",
    "    training_data: Path\n",
    "    size: Path\n",
    "    data_size: int\n",
    "    max_steps: int\n",
    "    language: str\n",
    "    task: str\n",
    "    metric: str\n",
    "    learning_rate: float\n",
    "    max_steps: int\n",
    "    generation_max_length: int\n",
    "    push_to_hub: bool"
   ]
  },
  {
   "cell_type": "code",
   "execution_count": 7,
   "metadata": {},
   "outputs": [],
   "source": [
    "from cnnClassifier.constants import *\n",
    "from cnnClassifier.utils.common import read_yaml, create_directories"
   ]
  },
  {
   "cell_type": "code",
   "execution_count": 9,
   "metadata": {},
   "outputs": [],
   "source": [
    "class ConfigurationManager:\n",
    "    def __init__(\n",
    "        self,\n",
    "        config_filepath = CONFIG_FILE_PATH,\n",
    "        params_filepath = PARAMS_FILE_PATH):\n",
    "        \n",
    "        self.config = read_yaml(config_filepath)\n",
    "        self.params = read_yaml(params_filepath)\n",
    "\n",
    "        create_directories([self.config.artifacts_root])\n",
    "\n",
    "    def get_training_config(self) -> TrainingConfig:\n",
    "        training = self.config.training\n",
    "        prepare_base_model = self.config.prepare_base_model\n",
    "        params = self.params\n",
    "        training_data = os.path.join(self.config.data_ingestion.root_dir, \"test.hf\")\n",
    "        print(training_data)\n",
    "        create_directories([\n",
    "            Path(training.root_dir)\n",
    "        ])\n",
    "\n",
    "        training_config = TrainingConfig(\n",
    "            root_dir=Path(training.root_dir),\n",
    "            trained_model_path=Path(training.trained_model_path),\n",
    "            updated_base_model_path=Path(prepare_base_model.updated_base_model_path),\n",
    "            training_data=Path(training_data),\n",
    "            size = params.SIZE,\n",
    "            data_size=params.DATA_SIZE,\n",
    "            max_steps=params.MAX_STEPS,\n",
    "            language=params.LANGUAGE,\n",
    "            task=params.TASK,\n",
    "            metric=params.METRIC,\n",
    "            learning_rate=params.LEARNING_RATE,\n",
    "            generation_max_length=params.GENERATION_MAX_LENGTH,\n",
    "            push_to_hub=params.PUSH_TO_HUB\n",
    "        )\n",
    "\n",
    "        return training_config"
   ]
  },
  {
   "cell_type": "code",
   "execution_count": 10,
   "metadata": {},
   "outputs": [],
   "source": [
    "from transformers import (WhisperTokenizer, \n",
    "                          WhisperFeatureExtractor, \n",
    "                          WhisperProcessor,\n",
    "                          WhisperForConditionalGeneration)\n",
    "\n",
    "import torch\n",
    "from dataclasses import dataclass\n",
    "from typing import Any, Dict, List, Union\n",
    "from cnnClassifier.utils.common import DataCollatorSpeechSeq2SeqWithPadding\n",
    "from cnnClassifier.utils.common import compute_metrics\n",
    "import evaluate\n",
    "from transformers import Seq2SeqTrainingArguments\n",
    "from datasets import load_dataset\n",
    "from transformers import Seq2SeqTrainer"
   ]
  },
  {
   "cell_type": "code",
   "execution_count": 11,
   "metadata": {},
   "outputs": [],
   "source": [
    "class Training:\n",
    "    def __init__(self, config: TrainingConfig):\n",
    "        self.config = config\n",
    "\n",
    "    \n",
    "    def get_base_model(self):\n",
    "        self.tokenizer = WhisperTokenizer.from_pretrained(self.config.size, \n",
    "                                                          language=self.config.language, \n",
    "                                                          task=self.config.task)\n",
    "        \n",
    "        self.feature_extractor = WhisperFeatureExtractor.from_pretrained(self.config.size)\n",
    "\n",
    "        self.processor = WhisperProcessor.from_pretrained(self.config.size, \n",
    "                                                          language=self.config.language, \n",
    "                                                          task=self.config.task)\n",
    "        \n",
    "        self.model = WhisperForConditionalGeneration.from_pretrained(self.config.updated_base_model_path)\n",
    "\n",
    "    def configure_trainig_arguments(self):\n",
    "\n",
    "        self.model.generation_config.language = self.config.language\n",
    "        self.model.generation_config.task = self.config.task\n",
    "        self.model.generation_config.forced_decoder_ids = None\n",
    "        \n",
    "        self.data_collator = DataCollatorSpeechSeq2SeqWithPadding(\n",
    "            processor=self.processor,\n",
    "            decoder_start_token_id=self.model.config.decoder_start_token_id\n",
    "        )\n",
    "        \n",
    "        self.metric = evaluate.load(self.config.metric)\n",
    "\n",
    "        self.training_args = Seq2SeqTrainingArguments(\n",
    "            output_dir=self.config.trained_model_path,\n",
    "            learning_rate=1e-5,\n",
    "            max_steps=self.config.max_steps,\n",
    "            generation_max_length=self.config.generation_max_length,\n",
    "            metric_for_best_model=self.config.metric,\n",
    "            push_to_hub=self.config.push_to_hub\n",
    "        )\n",
    "\n",
    "        self.dataset = load_dataset(str(self.config.training_data))\n",
    "        \n",
    "\n",
    "    def configure_trainer(self):\n",
    "\n",
    "        dataset = self.dataset\n",
    "        data_size = self.config.data_size\n",
    "        indices = [i for i in range(0, data_size)]\n",
    "\n",
    "        dataset['train'] = dataset['train'].select(indices)\n",
    "        dataset['test'] = dataset['train'].select(indices)\n",
    "\n",
    "        self.trainer = Seq2SeqTrainer(\n",
    "            args=self.training_args,\n",
    "            model=self.model,\n",
    "            train_dataset=dataset[\"train\"],\n",
    "            eval_dataset=dataset[\"test\"],\n",
    "            data_collator=self.data_collator,\n",
    "            compute_metrics=compute_metrics,\n",
    "            tokenizer=self.processor.feature_extractor,\n",
    "        )\n",
    "\n",
    "    @staticmethod\n",
    "    def save_model(path: Path, model: WhisperForConditionalGeneration, tokenizer):\n",
    "        model.save_pretrained(path, from_pt=True)\n",
    "        tokenizer.save_pretrained(path)\n",
    "\n",
    "\n",
    "    \n",
    "    def train(self):\n",
    "        \n",
    "        self.trainer.train()\n",
    "\n",
    "        self.save_model(\n",
    "            path=self.config.trained_model_path,\n",
    "            model=self.model,\n",
    "            tokenizer=self.tokenizer\n",
    "        )"
   ]
  },
  {
   "cell_type": "code",
   "execution_count": null,
   "metadata": {},
   "outputs": [],
   "source": [
    "try:\n",
    "    config = ConfigurationManager()\n",
    "    training_config = config.get_training_config()\n",
    "    training = Training(config=training_config)\n",
    "    training.get_base_model()\n",
    "    training.configure_trainig_arguments()\n",
    "    training.configure_trainer()\n",
    "    training.train()\n",
    "    \n",
    "except Exception as e:\n",
    "    raise e"
   ]
  }
 ],
 "metadata": {
  "kernelspec": {
   "display_name": "new2",
   "language": "python",
   "name": "python3"
  },
  "language_info": {
   "codemirror_mode": {
    "name": "ipython",
    "version": 3
   },
   "file_extension": ".py",
   "mimetype": "text/x-python",
   "name": "python",
   "nbconvert_exporter": "python",
   "pygments_lexer": "ipython3",
   "version": "3.8.19"
  }
 },
 "nbformat": 4,
 "nbformat_minor": 2
}
